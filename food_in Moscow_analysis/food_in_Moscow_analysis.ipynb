{
 "cells": [
  {
   "cell_type": "markdown",
   "metadata": {
    "id": "PSB834lkKbDA"
   },
   "source": [
    "# Рынок заведений общественного питания Москвы\n",
    "\n",
    "## Общее описание проекта\n",
    "По открытым данным о заведениях общественного питания в Москве требуется провести исследование рынка.\n",
    "\n",
    "## Описание располагаемых данных\n",
    "\n",
    "Данные о заведениях общественного питания Москвы содержатся в файле `project3`. Каждая запись характеризуется следующим набором признаков:\n",
    "\n",
    "|Признак|Описание|\n",
    "|------:|:-------|\n",
    "|`id` | идентификатор объекта|\n",
    "|`object_name` | название объекта общественного питания|\n",
    "|`chain` | сетевой ресторан|\n",
    "|`object_type` | тип объекта общественного питания|\n",
    "|`address` | адрес|\n",
    "|`number` |  количество посадочных мест|"
   ]
  },
  {
   "cell_type": "markdown",
   "metadata": {},
   "source": [
    "## Загружаем необходимые библиотеки для данной работы"
   ]
  },
  {
   "cell_type": "code",
   "execution_count": 197,
   "metadata": {
    "executionInfo": {
     "elapsed": 4,
     "status": "ok",
     "timestamp": 1659907253879,
     "user": {
      "displayName": "Сергей ДПО",
      "userId": "02314231685143924763"
     },
     "user_tz": -180
    },
    "id": "-0VIwgTwLlZi"
   },
   "outputs": [],
   "source": [
    "import pandas as pd\n",
    "import numpy as np\n",
    "from scipy import stats\n",
    "import matplotlib.pyplot as plt\n",
    "import seaborn as sns\n",
    "\n",
    "pd.set_option('display.max_columns', None)\n",
    "pd.options.display.max_colwidth = 150"
   ]
  },
  {
   "cell_type": "markdown",
   "metadata": {},
   "source": [
    "## Прочитаем данные"
   ]
  },
  {
   "cell_type": "code",
   "execution_count": 127,
   "metadata": {},
   "outputs": [
    {
     "data": {
      "text/html": [
       "<div>\n",
       "<style scoped>\n",
       "    .dataframe tbody tr th:only-of-type {\n",
       "        vertical-align: middle;\n",
       "    }\n",
       "\n",
       "    .dataframe tbody tr th {\n",
       "        vertical-align: top;\n",
       "    }\n",
       "\n",
       "    .dataframe thead th {\n",
       "        text-align: right;\n",
       "    }\n",
       "</style>\n",
       "<table border=\"1\" class=\"dataframe\">\n",
       "  <thead>\n",
       "    <tr style=\"text-align: right;\">\n",
       "      <th></th>\n",
       "      <th>id</th>\n",
       "      <th>object_name</th>\n",
       "      <th>chain</th>\n",
       "      <th>object_type</th>\n",
       "      <th>address</th>\n",
       "      <th>number</th>\n",
       "    </tr>\n",
       "  </thead>\n",
       "  <tbody>\n",
       "    <tr>\n",
       "      <th>0</th>\n",
       "      <td>151635</td>\n",
       "      <td>СМЕТАНА</td>\n",
       "      <td>нет</td>\n",
       "      <td>кафе</td>\n",
       "      <td>город Москва, улица Егора Абакумова, дом 9</td>\n",
       "      <td>48</td>\n",
       "    </tr>\n",
       "    <tr>\n",
       "      <th>1</th>\n",
       "      <td>77874</td>\n",
       "      <td>Родник</td>\n",
       "      <td>нет</td>\n",
       "      <td>кафе</td>\n",
       "      <td>город Москва, улица Талалихина, дом 2/1, корпус 1</td>\n",
       "      <td>35</td>\n",
       "    </tr>\n",
       "    <tr>\n",
       "      <th>2</th>\n",
       "      <td>24309</td>\n",
       "      <td>Кафе «Академия»</td>\n",
       "      <td>нет</td>\n",
       "      <td>кафе</td>\n",
       "      <td>город Москва, Абельмановская улица, дом 6</td>\n",
       "      <td>95</td>\n",
       "    </tr>\n",
       "    <tr>\n",
       "      <th>3</th>\n",
       "      <td>21894</td>\n",
       "      <td>ПИЦЦЕТОРИЯ</td>\n",
       "      <td>да</td>\n",
       "      <td>кафе</td>\n",
       "      <td>город Москва, Абрамцевская улица, дом 1</td>\n",
       "      <td>40</td>\n",
       "    </tr>\n",
       "    <tr>\n",
       "      <th>4</th>\n",
       "      <td>119365</td>\n",
       "      <td>Кафе «Вишневая метель»</td>\n",
       "      <td>нет</td>\n",
       "      <td>кафе</td>\n",
       "      <td>город Москва, Абрамцевская улица, дом 9, корпус 1</td>\n",
       "      <td>50</td>\n",
       "    </tr>\n",
       "  </tbody>\n",
       "</table>\n",
       "</div>"
      ],
      "text/plain": [
       "       id             object_name chain object_type  \\\n",
       "0  151635                 СМЕТАНА   нет        кафе   \n",
       "1   77874                  Родник   нет        кафе   \n",
       "2   24309         Кафе «Академия»   нет        кафе   \n",
       "3   21894              ПИЦЦЕТОРИЯ    да        кафе   \n",
       "4  119365  Кафе «Вишневая метель»   нет        кафе   \n",
       "\n",
       "                                             address  number  \n",
       "0         город Москва, улица Егора Абакумова, дом 9      48  \n",
       "1  город Москва, улица Талалихина, дом 2/1, корпус 1      35  \n",
       "2          город Москва, Абельмановская улица, дом 6      95  \n",
       "3            город Москва, Абрамцевская улица, дом 1      40  \n",
       "4  город Москва, Абрамцевская улица, дом 9, корпус 1      50  "
      ]
     },
     "execution_count": 127,
     "metadata": {},
     "output_type": "execute_result"
    }
   ],
   "source": [
    "df = pd.read_csv('project3.csv')\n",
    "df.head()"
   ]
  },
  {
   "cell_type": "markdown",
   "metadata": {},
   "source": [
    "#### Данные загружены корректно"
   ]
  },
  {
   "cell_type": "markdown",
   "metadata": {},
   "source": [
    "## Знакомство с данными"
   ]
  },
  {
   "cell_type": "code",
   "execution_count": 128,
   "metadata": {},
   "outputs": [
    {
     "data": {
      "text/plain": [
       "(15366, 6)"
      ]
     },
     "execution_count": 128,
     "metadata": {},
     "output_type": "execute_result"
    }
   ],
   "source": [
    "print('Количество строк -- {}, количество колонок -- {}'.\n",
    "     format(df.shape[0], df.shape[1]))"
   ]
  },
  {
   "cell_type": "code",
   "execution_count": 129,
   "metadata": {},
   "outputs": [
    {
     "name": "stdout",
     "output_type": "stream",
     "text": [
      "Количество дублирующихся записей -- 0. Это составляет -- 0.00% от общего числа записей.\n"
     ]
    }
   ],
   "source": [
    "print('Количество дублирующихся записей -- {}. Это составляет -- {:.2%} от общего числа записей.'.\n",
    "      format(df.duplicated().sum(), df.duplicated().sum()/df.shape[0]))"
   ]
  },
  {
   "cell_type": "code",
   "execution_count": 130,
   "metadata": {},
   "outputs": [
    {
     "name": "stdout",
     "output_type": "stream",
     "text": [
      "Количество дублирующихся записей без идентификатора -- 82. Это составляет -- 0.53% от общего числа записей.\n"
     ]
    }
   ],
   "source": [
    "print('Количество дублирующихся записей без идентификатора -- {}. Это составляет -- {:.2%} от общего числа записей.'.\n",
    "      format(df.drop('id', axis=1).duplicated().sum(), \n",
    "             df.drop('id', axis=1).duplicated().sum()/df.drop('id', axis=1).shape[0]))"
   ]
  },
  {
   "cell_type": "markdown",
   "metadata": {},
   "source": [
    "#### Сделаем поправку - удалим дублирующие записи без идентификатора"
   ]
  },
  {
   "cell_type": "code",
   "execution_count": 131,
   "metadata": {},
   "outputs": [],
   "source": [
    "index_del = df.loc[df.drop(columns='id').duplicated()].index"
   ]
  },
  {
   "cell_type": "code",
   "execution_count": 132,
   "metadata": {},
   "outputs": [],
   "source": [
    "df.drop(index = index_del, inplace = True)"
   ]
  },
  {
   "cell_type": "code",
   "execution_count": 133,
   "metadata": {},
   "outputs": [
    {
     "name": "stdout",
     "output_type": "stream",
     "text": [
      "Количество дублирующихся записей без идентификатора -- 0. Это составляет -- 0.00% от общего числа записей.\n"
     ]
    }
   ],
   "source": [
    "print('Количество дублирующихся записей без идентификатора -- {}. Это составляет -- {:.2%} от общего числа записей.'.\n",
    "      format(df.drop('id', axis=1).duplicated().sum(), \n",
    "             df.drop('id', axis=1).duplicated().sum()/df.drop('id', axis=1).shape[0]))"
   ]
  },
  {
   "cell_type": "code",
   "execution_count": 134,
   "metadata": {},
   "outputs": [
    {
     "data": {
      "text/html": [
       "<div>\n",
       "<style scoped>\n",
       "    .dataframe tbody tr th:only-of-type {\n",
       "        vertical-align: middle;\n",
       "    }\n",
       "\n",
       "    .dataframe tbody tr th {\n",
       "        vertical-align: top;\n",
       "    }\n",
       "\n",
       "    .dataframe thead th {\n",
       "        text-align: right;\n",
       "    }\n",
       "</style>\n",
       "<table border=\"1\" class=\"dataframe\">\n",
       "  <thead>\n",
       "    <tr style=\"text-align: right;\">\n",
       "      <th></th>\n",
       "      <th>id</th>\n",
       "      <th>number</th>\n",
       "    </tr>\n",
       "  </thead>\n",
       "  <tbody>\n",
       "    <tr>\n",
       "      <th>count</th>\n",
       "      <td>15284.000000</td>\n",
       "      <td>15284.000000</td>\n",
       "    </tr>\n",
       "    <tr>\n",
       "      <th>mean</th>\n",
       "      <td>119506.877126</td>\n",
       "      <td>59.784350</td>\n",
       "    </tr>\n",
       "    <tr>\n",
       "      <th>std</th>\n",
       "      <td>73042.951997</td>\n",
       "      <td>74.838657</td>\n",
       "    </tr>\n",
       "    <tr>\n",
       "      <th>min</th>\n",
       "      <td>838.000000</td>\n",
       "      <td>0.000000</td>\n",
       "    </tr>\n",
       "    <tr>\n",
       "      <th>25%</th>\n",
       "      <td>28494.500000</td>\n",
       "      <td>14.000000</td>\n",
       "    </tr>\n",
       "    <tr>\n",
       "      <th>50%</th>\n",
       "      <td>144805.500000</td>\n",
       "      <td>40.000000</td>\n",
       "    </tr>\n",
       "    <tr>\n",
       "      <th>75%</th>\n",
       "      <td>184123.000000</td>\n",
       "      <td>80.000000</td>\n",
       "    </tr>\n",
       "    <tr>\n",
       "      <th>max</th>\n",
       "      <td>223439.000000</td>\n",
       "      <td>1700.000000</td>\n",
       "    </tr>\n",
       "  </tbody>\n",
       "</table>\n",
       "</div>"
      ],
      "text/plain": [
       "                  id        number\n",
       "count   15284.000000  15284.000000\n",
       "mean   119506.877126     59.784350\n",
       "std     73042.951997     74.838657\n",
       "min       838.000000      0.000000\n",
       "25%     28494.500000     14.000000\n",
       "50%    144805.500000     40.000000\n",
       "75%    184123.000000     80.000000\n",
       "max    223439.000000   1700.000000"
      ]
     },
     "execution_count": 134,
     "metadata": {},
     "output_type": "execute_result"
    }
   ],
   "source": [
    "df.describe()"
   ]
  },
  {
   "cell_type": "code",
   "execution_count": 135,
   "metadata": {},
   "outputs": [
    {
     "data": {
      "text/html": [
       "<div>\n",
       "<style scoped>\n",
       "    .dataframe tbody tr th:only-of-type {\n",
       "        vertical-align: middle;\n",
       "    }\n",
       "\n",
       "    .dataframe tbody tr th {\n",
       "        vertical-align: top;\n",
       "    }\n",
       "\n",
       "    .dataframe thead th {\n",
       "        text-align: right;\n",
       "    }\n",
       "</style>\n",
       "<table border=\"1\" class=\"dataframe\">\n",
       "  <thead>\n",
       "    <tr style=\"text-align: right;\">\n",
       "      <th></th>\n",
       "      <th>object_name</th>\n",
       "      <th>chain</th>\n",
       "      <th>object_type</th>\n",
       "      <th>address</th>\n",
       "    </tr>\n",
       "  </thead>\n",
       "  <tbody>\n",
       "    <tr>\n",
       "      <th>count</th>\n",
       "      <td>15284</td>\n",
       "      <td>15284</td>\n",
       "      <td>15284</td>\n",
       "      <td>15284</td>\n",
       "    </tr>\n",
       "    <tr>\n",
       "      <th>unique</th>\n",
       "      <td>10393</td>\n",
       "      <td>2</td>\n",
       "      <td>9</td>\n",
       "      <td>9108</td>\n",
       "    </tr>\n",
       "    <tr>\n",
       "      <th>top</th>\n",
       "      <td>Столовая</td>\n",
       "      <td>нет</td>\n",
       "      <td>кафе</td>\n",
       "      <td>город Москва, Ходынский бульвар, дом 4</td>\n",
       "    </tr>\n",
       "    <tr>\n",
       "      <th>freq</th>\n",
       "      <td>267</td>\n",
       "      <td>12320</td>\n",
       "      <td>6071</td>\n",
       "      <td>95</td>\n",
       "    </tr>\n",
       "  </tbody>\n",
       "</table>\n",
       "</div>"
      ],
      "text/plain": [
       "       object_name  chain object_type                                 address\n",
       "count        15284  15284       15284                                   15284\n",
       "unique       10393      2           9                                    9108\n",
       "top       Столовая    нет        кафе  город Москва, Ходынский бульвар, дом 4\n",
       "freq           267  12320        6071                                      95"
      ]
     },
     "execution_count": 135,
     "metadata": {},
     "output_type": "execute_result"
    }
   ],
   "source": [
    "df.describe(include=[object])"
   ]
  },
  {
   "cell_type": "markdown",
   "metadata": {},
   "source": [
    "#### По описательным статистикам видим:\n",
    "\n",
    "- кафе (тип заведения) лидирует по количеству других типов из всей выборки;\n",
    "- в выборке несетевых заведений больше, чем сетевых;\n",
    "- количество посадочных мест варьируется от 0 - 1700"
   ]
  },
  {
   "cell_type": "code",
   "execution_count": 198,
   "metadata": {},
   "outputs": [
    {
     "name": "stdout",
     "output_type": "stream",
     "text": [
      "---object_name---\n",
      "['СМЕТАНА' 'Родник' 'Кафе «Академия»' ... 'Бар Мята Lounge'\n",
      " 'Мята Lounge Октябрьская' 'Кальянная «Мята Lounge»']\n",
      "------\n",
      "---chain---\n",
      "['нет' 'да']\n",
      "------\n",
      "---object_type---\n",
      "['кафе' 'столовая' 'закусочная' 'предприятие быстрого обслуживания'\n",
      " 'ресторан' 'кафетерий' 'буфет' 'бар' 'магазин (отдел кулинарии)']\n",
      "------\n",
      "---address---\n",
      "['город Москва, улица Егора Абакумова, дом 9'\n",
      " 'город Москва, улица Талалихина, дом 2/1, корпус 1'\n",
      " 'город Москва, Абельмановская улица, дом 6' ...\n",
      " 'город Москва, Салтыковская улица, дом 7Г'\n",
      " 'город Москва, Осенний бульвар, дом 9'\n",
      " 'город Москва, улица Новый Арбат, дом 13']\n",
      "------\n"
     ]
    }
   ],
   "source": [
    "for col in df.select_dtypes('object').columns:\n",
    "    print('---{}---'.format(col))\n",
    "    print(df[col].unique())\n",
    "    print('------')"
   ]
  },
  {
   "cell_type": "code",
   "execution_count": 199,
   "metadata": {},
   "outputs": [
    {
     "name": "stdout",
     "output_type": "stream",
     "text": [
      "<class 'pandas.core.frame.DataFrame'>\n",
      "Int64Index: 15284 entries, 0 to 15365\n",
      "Data columns (total 6 columns):\n",
      " #   Column       Non-Null Count  Dtype \n",
      "---  ------       --------------  ----- \n",
      " 0   id           15284 non-null  int64 \n",
      " 1   object_name  15284 non-null  object\n",
      " 2   chain        15284 non-null  object\n",
      " 3   object_type  15284 non-null  object\n",
      " 4   address      15284 non-null  object\n",
      " 5   number       15284 non-null  int64 \n",
      "dtypes: int64(2), object(4)\n",
      "memory usage: 835.8+ KB\n"
     ]
    }
   ],
   "source": [
    "df.info()"
   ]
  },
  {
   "cell_type": "code",
   "execution_count": 200,
   "metadata": {},
   "outputs": [
    {
     "data": {
      "text/plain": [
       "id             0\n",
       "object_name    0\n",
       "chain          0\n",
       "object_type    0\n",
       "address        0\n",
       "number         0\n",
       "dtype: int64"
      ]
     },
     "execution_count": 200,
     "metadata": {},
     "output_type": "execute_result"
    }
   ],
   "source": [
    "df.isna().sum()"
   ]
  },
  {
   "cell_type": "markdown",
   "metadata": {},
   "source": [
    "#### Пропусков в данных нет"
   ]
  },
  {
   "cell_type": "markdown",
   "metadata": {},
   "source": [
    "## Анализ данных"
   ]
  },
  {
   "cell_type": "markdown",
   "metadata": {},
   "source": [
    "Для подписей на графиках применю функцию перевода заголовков на русский язык (для удобства восприятия визуализации русскоговорящим)"
   ]
  },
  {
   "cell_type": "code",
   "execution_count": 201,
   "metadata": {},
   "outputs": [],
   "source": [
    "dict_to_rus = {\n",
    "'object_name':'название объекта общественного питания',\n",
    "'chain':'сетевой ресторан',\n",
    "'object_type': 'тип объекта общественного питания',\n",
    "'address':'адрес',\n",
    "'number': 'количество посадочных мест'\n",
    "} "
   ]
  },
  {
   "cell_type": "code",
   "execution_count": 202,
   "metadata": {},
   "outputs": [],
   "source": [
    "category_ = ['chain', 'object_type']"
   ]
  },
  {
   "cell_type": "markdown",
   "metadata": {},
   "source": [
    "### Посмотрим на распределение видов объектов общественного питания по количеству"
   ]
  },
  {
   "cell_type": "code",
   "execution_count": 204,
   "metadata": {},
   "outputs": [
    {
     "data": {
      "image/png": "[encoded data removed]",
      "text/plain": [
       "<Figure size 1152x432 with 2 Axes>"
      ]
     },
     "metadata": {
      "needs_background": "light"
     },
     "output_type": "display_data"
    }
   ],
   "source": [
    "fig, axes = plt.subplots(2, sharey=True, figsize=(16,6))\n",
    "i=0\n",
    "for i, col in enumerate(category_):\n",
    "    plt.subplot(1,2,i+1)\n",
    "    ax = sns.countplot(x=col, data=df)\n",
    "    ax.set_xticklabels(ax.get_xticklabels(), rotation=30,  ha=\"right\", fontsize=12)\n",
    "    plt.title(\"Гистограмма \\n для признака <<{}>>\".format(dict_to_rus[col]))\n",
    "    plt.xlabel(dict_to_rus[col], fontsize = 12)\n",
    "    plt.ylabel('Количество', fontsize = 12)\n",
    "    for p in ax.patches:\n",
    "        x=p.get_bbox().get_points()[:,0]\n",
    "        y=p.get_bbox().get_points()[1,1]\n",
    "        ax.annotate('{:d}'.format(p.get_height()), \n",
    "            (x.mean(), y),ha='center', va='bottom', fontsize = 10)"
   ]
  },
  {
   "cell_type": "markdown",
   "metadata": {},
   "source": [
    "### Распределение видов объекта общепита в сетевом сегменте"
   ]
  },
  {
   "cell_type": "code",
   "execution_count": 142,
   "metadata": {},
   "outputs": [
    {
     "data": {
      "text/html": [
       "<div>\n",
       "<style scoped>\n",
       "    .dataframe tbody tr th:only-of-type {\n",
       "        vertical-align: middle;\n",
       "    }\n",
       "\n",
       "    .dataframe tbody tr th {\n",
       "        vertical-align: top;\n",
       "    }\n",
       "\n",
       "    .dataframe thead th {\n",
       "        text-align: right;\n",
       "    }\n",
       "</style>\n",
       "<table border=\"1\" class=\"dataframe\">\n",
       "  <thead>\n",
       "    <tr style=\"text-align: right;\">\n",
       "      <th></th>\n",
       "      <th>object_type</th>\n",
       "      <th>count_yes</th>\n",
       "    </tr>\n",
       "  </thead>\n",
       "  <tbody>\n",
       "    <tr>\n",
       "      <th>3</th>\n",
       "      <td>кафе</td>\n",
       "      <td>1396</td>\n",
       "    </tr>\n",
       "    <tr>\n",
       "      <th>6</th>\n",
       "      <td>предприятие быстрого обслуживания</td>\n",
       "      <td>788</td>\n",
       "    </tr>\n",
       "    <tr>\n",
       "      <th>7</th>\n",
       "      <td>ресторан</td>\n",
       "      <td>543</td>\n",
       "    </tr>\n",
       "    <tr>\n",
       "      <th>5</th>\n",
       "      <td>магазин (отдел кулинарии)</td>\n",
       "      <td>78</td>\n",
       "    </tr>\n",
       "    <tr>\n",
       "      <th>2</th>\n",
       "      <td>закусочная</td>\n",
       "      <td>56</td>\n",
       "    </tr>\n",
       "    <tr>\n",
       "      <th>4</th>\n",
       "      <td>кафетерий</td>\n",
       "      <td>52</td>\n",
       "    </tr>\n",
       "    <tr>\n",
       "      <th>0</th>\n",
       "      <td>бар</td>\n",
       "      <td>37</td>\n",
       "    </tr>\n",
       "    <tr>\n",
       "      <th>1</th>\n",
       "      <td>буфет</td>\n",
       "      <td>11</td>\n",
       "    </tr>\n",
       "    <tr>\n",
       "      <th>8</th>\n",
       "      <td>столовая</td>\n",
       "      <td>3</td>\n",
       "    </tr>\n",
       "  </tbody>\n",
       "</table>\n",
       "</div>"
      ],
      "text/plain": [
       "                         object_type  count_yes\n",
       "3                               кафе       1396\n",
       "6  предприятие быстрого обслуживания        788\n",
       "7                           ресторан        543\n",
       "5          магазин (отдел кулинарии)         78\n",
       "2                         закусочная         56\n",
       "4                          кафетерий         52\n",
       "0                                бар         37\n",
       "1                              буфет         11\n",
       "8                           столовая          3"
      ]
     },
     "execution_count": 142,
     "metadata": {},
     "output_type": "execute_result"
    }
   ],
   "source": [
    "count_type_of_chain_yes = df[df['chain'] == 'да'].groupby('object_type', as_index=False).\\\n",
    "agg({'object_name':'count'}).sort_values(by='object_name', ascending=False)\n",
    "count_type_of_chain_yes.columns = ['object_type', 'count_yes']\n",
    "count_type_of_chain_yes"
   ]
  },
  {
   "cell_type": "code",
   "execution_count": 143,
   "metadata": {},
   "outputs": [
    {
     "data": {
      "text/html": [
       "<div>\n",
       "<style scoped>\n",
       "    .dataframe tbody tr th:only-of-type {\n",
       "        vertical-align: middle;\n",
       "    }\n",
       "\n",
       "    .dataframe tbody tr th {\n",
       "        vertical-align: top;\n",
       "    }\n",
       "\n",
       "    .dataframe thead th {\n",
       "        text-align: right;\n",
       "    }\n",
       "</style>\n",
       "<table border=\"1\" class=\"dataframe\">\n",
       "  <thead>\n",
       "    <tr style=\"text-align: right;\">\n",
       "      <th></th>\n",
       "      <th>object_type</th>\n",
       "      <th>count__no</th>\n",
       "    </tr>\n",
       "  </thead>\n",
       "  <tbody>\n",
       "    <tr>\n",
       "      <th>3</th>\n",
       "      <td>кафе</td>\n",
       "      <td>4675</td>\n",
       "    </tr>\n",
       "    <tr>\n",
       "      <th>8</th>\n",
       "      <td>столовая</td>\n",
       "      <td>2581</td>\n",
       "    </tr>\n",
       "    <tr>\n",
       "      <th>7</th>\n",
       "      <td>ресторан</td>\n",
       "      <td>1739</td>\n",
       "    </tr>\n",
       "    <tr>\n",
       "      <th>6</th>\n",
       "      <td>предприятие быстрого обслуживания</td>\n",
       "      <td>1110</td>\n",
       "    </tr>\n",
       "    <tr>\n",
       "      <th>0</th>\n",
       "      <td>бар</td>\n",
       "      <td>818</td>\n",
       "    </tr>\n",
       "    <tr>\n",
       "      <th>1</th>\n",
       "      <td>буфет</td>\n",
       "      <td>566</td>\n",
       "    </tr>\n",
       "    <tr>\n",
       "      <th>4</th>\n",
       "      <td>кафетерий</td>\n",
       "      <td>343</td>\n",
       "    </tr>\n",
       "    <tr>\n",
       "      <th>2</th>\n",
       "      <td>закусочная</td>\n",
       "      <td>293</td>\n",
       "    </tr>\n",
       "    <tr>\n",
       "      <th>5</th>\n",
       "      <td>магазин (отдел кулинарии)</td>\n",
       "      <td>195</td>\n",
       "    </tr>\n",
       "  </tbody>\n",
       "</table>\n",
       "</div>"
      ],
      "text/plain": [
       "                         object_type  count__no\n",
       "3                               кафе       4675\n",
       "8                           столовая       2581\n",
       "7                           ресторан       1739\n",
       "6  предприятие быстрого обслуживания       1110\n",
       "0                                бар        818\n",
       "1                              буфет        566\n",
       "4                          кафетерий        343\n",
       "2                         закусочная        293\n",
       "5          магазин (отдел кулинарии)        195"
      ]
     },
     "execution_count": 143,
     "metadata": {},
     "output_type": "execute_result"
    }
   ],
   "source": [
    "count_type_of_chain_no = df[df['chain'] == 'нет'].groupby('object_type', as_index=False).\\\n",
    "agg({'object_name':'count'}).sort_values(by='object_name', ascending=False)\n",
    "count_type_of_chain_no.columns = ['object_type', 'count__no']\n",
    "count_type_of_chain_no"
   ]
  },
  {
   "cell_type": "markdown",
   "metadata": {},
   "source": [
    "#### По произведенному анализу видно, что больше всего во всей выборке - кафе не сетевого типа"
   ]
  },
  {
   "cell_type": "markdown",
   "metadata": {},
   "source": [
    "### Проанализируем заведения по количеству посадочных мест"
   ]
  },
  {
   "cell_type": "code",
   "execution_count": 206,
   "metadata": {},
   "outputs": [
    {
     "data": {
      "text/plain": [
       "0     1589\n",
       "40     832\n",
       "20     724\n",
       "30     681\n",
       "10     638\n",
       "Name: number, dtype: int64"
      ]
     },
     "execution_count": 206,
     "metadata": {},
     "output_type": "execute_result"
    }
   ],
   "source": [
    "count_number = df['number'].value_counts()\n",
    "count_number.head()"
   ]
  },
  {
   "cell_type": "markdown",
   "metadata": {},
   "source": [
    "#### Почистим наши данные от количества посадочных мест = 0"
   ]
  },
  {
   "cell_type": "code",
   "execution_count": 207,
   "metadata": {},
   "outputs": [],
   "source": [
    "df_clean = df[(df['number'] > 0)]"
   ]
  },
  {
   "cell_type": "code",
   "execution_count": 208,
   "metadata": {},
   "outputs": [
    {
     "data": {
      "text/plain": [
       "40    832\n",
       "20    724\n",
       "30    681\n",
       "10    638\n",
       "50    554\n",
       "Name: number, dtype: int64"
      ]
     },
     "execution_count": 208,
     "metadata": {},
     "output_type": "execute_result"
    }
   ],
   "source": [
    "count_number = df_clean['number'].value_counts()\n",
    "count_number.head()"
   ]
  },
  {
   "cell_type": "markdown",
   "metadata": {},
   "source": [
    "### Посмотрим на популярное количество посадочных мест"
   ]
  },
  {
   "cell_type": "code",
   "execution_count": 209,
   "metadata": {},
   "outputs": [
    {
     "name": "stderr",
     "output_type": "stream",
     "text": [
      "C:\\Users\\User\\anaconda3\\lib\\site-packages\\seaborn\\_decorators.py:36: FutureWarning: Pass the following variables as keyword args: x, y. From version 0.12, the only valid positional argument will be `data`, and passing other arguments without an explicit keyword will result in an error or misinterpretation.\n",
      "  warnings.warn(\n"
     ]
    },
    {
     "data": {
      "image/png": "[encoded data removed]",
      "text/plain": [
       "<Figure size 576x288 with 1 Axes>"
      ]
     },
     "metadata": {
      "needs_background": "light"
     },
     "output_type": "display_data"
    }
   ],
   "source": [
    "x=df_clean.groupby(['number']).count()\n",
    "x=x.sort_values(by='id',ascending=False)\n",
    "x=x.iloc[0:10].reset_index()\n",
    "x\n",
    "# #plot\n",
    "plt.figure(figsize=(8,4))\n",
    "ax= sns.barplot(x.number, x.id, alpha=0.8)\n",
    "plt.title(\"Самые популярные количество мест\")\n",
    "plt.ylabel('id', fontsize=12)\n",
    "plt.xlabel('количество мест', fontsize=12)\n",
    "plt.show();"
   ]
  },
  {
   "cell_type": "markdown",
   "metadata": {},
   "source": [
    "#### Можем заметить, что основная масса заведений из нашей выборки с небольшим количеством посадочных мест"
   ]
  },
  {
   "cell_type": "code",
   "execution_count": 210,
   "metadata": {},
   "outputs": [
    {
     "data": {
      "text/plain": [
       "<AxesSubplot:>"
      ]
     },
     "execution_count": 210,
     "metadata": {},
     "output_type": "execute_result"
    },
    {
     "data": {
      "image/png": "[encoded data removed]",
      "text/plain": [
       "<Figure size 216x504 with 1 Axes>"
      ]
     },
     "metadata": {
      "needs_background": "light"
     },
     "output_type": "display_data"
    }
   ],
   "source": [
    "df_clean.boxplot(column='number', figsize=(3, 7))"
   ]
  },
  {
   "cell_type": "markdown",
   "metadata": {},
   "source": [
    "#### Не считаю за выбросы заведения от 1000 до 2000 посадочных мест. Их в нашей выборке не много и такие заведения на самом деле существуют и к тому же нам не известна информация на какое количество посадочных мест ориентируется заказчик. "
   ]
  },
  {
   "cell_type": "markdown",
   "metadata": {},
   "source": [
    "Также посмотрим на заведения в которых количество посадочных мест превышает 1000 "
   ]
  },
  {
   "cell_type": "code",
   "execution_count": 211,
   "metadata": {},
   "outputs": [
    {
     "data": {
      "text/html": [
       "<div>\n",
       "<style scoped>\n",
       "    .dataframe tbody tr th:only-of-type {\n",
       "        vertical-align: middle;\n",
       "    }\n",
       "\n",
       "    .dataframe tbody tr th {\n",
       "        vertical-align: top;\n",
       "    }\n",
       "\n",
       "    .dataframe thead th {\n",
       "        text-align: right;\n",
       "    }\n",
       "</style>\n",
       "<table border=\"1\" class=\"dataframe\">\n",
       "  <thead>\n",
       "    <tr style=\"text-align: right;\">\n",
       "      <th></th>\n",
       "      <th>id</th>\n",
       "      <th>object_name</th>\n",
       "      <th>chain</th>\n",
       "      <th>object_type</th>\n",
       "      <th>address</th>\n",
       "      <th>number</th>\n",
       "    </tr>\n",
       "  </thead>\n",
       "  <tbody>\n",
       "    <tr>\n",
       "      <th>2313</th>\n",
       "      <td>26560</td>\n",
       "      <td>Ресторан «АЛЬФА»</td>\n",
       "      <td>нет</td>\n",
       "      <td>ресторан</td>\n",
       "      <td>город Москва, Измайловское шоссе, дом 71, корпус А</td>\n",
       "      <td>1040</td>\n",
       "    </tr>\n",
       "    <tr>\n",
       "      <th>3686</th>\n",
       "      <td>27026</td>\n",
       "      <td>РУМ СЕРВИС</td>\n",
       "      <td>нет</td>\n",
       "      <td>ресторан</td>\n",
       "      <td>город Москва, площадь Европы, дом 2</td>\n",
       "      <td>1200</td>\n",
       "    </tr>\n",
       "    <tr>\n",
       "      <th>4480</th>\n",
       "      <td>27024</td>\n",
       "      <td>РУМ СЕРВИС</td>\n",
       "      <td>нет</td>\n",
       "      <td>ресторан</td>\n",
       "      <td>город Москва, Кутузовский проспект, дом 2/1, строение 1</td>\n",
       "      <td>1200</td>\n",
       "    </tr>\n",
       "    <tr>\n",
       "      <th>8148</th>\n",
       "      <td>80291</td>\n",
       "      <td>Банкетный зал Шелк</td>\n",
       "      <td>нет</td>\n",
       "      <td>ресторан</td>\n",
       "      <td>город Москва, Большой Саввинский переулок, дом 12, строение 10Г</td>\n",
       "      <td>1500</td>\n",
       "    </tr>\n",
       "    <tr>\n",
       "      <th>8345</th>\n",
       "      <td>27750</td>\n",
       "      <td>СТОЛОВАЯ-БУФЕТ</td>\n",
       "      <td>нет</td>\n",
       "      <td>столовая</td>\n",
       "      <td>город Москва, улица Волхонка, дом 15</td>\n",
       "      <td>1400</td>\n",
       "    </tr>\n",
       "    <tr>\n",
       "      <th>9064</th>\n",
       "      <td>19719</td>\n",
       "      <td>КОМБИНАТ ПИТАНИЯ «УПРАВЛЕНИЕ АКАДЕМСЕРВИС»</td>\n",
       "      <td>нет</td>\n",
       "      <td>столовая</td>\n",
       "      <td>город Москва, проспект Вернадского, дом 84, строение 1</td>\n",
       "      <td>1288</td>\n",
       "    </tr>\n",
       "    <tr>\n",
       "      <th>12723</th>\n",
       "      <td>199696</td>\n",
       "      <td>Arena by Soho Family</td>\n",
       "      <td>нет</td>\n",
       "      <td>бар</td>\n",
       "      <td>город Москва, Кутузовский проспект, дом 36, строение 11</td>\n",
       "      <td>1700</td>\n",
       "    </tr>\n",
       "  </tbody>\n",
       "</table>\n",
       "</div>"
      ],
      "text/plain": [
       "           id                                 object_name chain object_type  \\\n",
       "2313    26560                            Ресторан «АЛЬФА»   нет    ресторан   \n",
       "3686    27026                                  РУМ СЕРВИС   нет    ресторан   \n",
       "4480    27024                                  РУМ СЕРВИС   нет    ресторан   \n",
       "8148    80291                          Банкетный зал Шелк   нет    ресторан   \n",
       "8345    27750                              СТОЛОВАЯ-БУФЕТ   нет    столовая   \n",
       "9064    19719  КОМБИНАТ ПИТАНИЯ «УПРАВЛЕНИЕ АКАДЕМСЕРВИС»   нет    столовая   \n",
       "12723  199696                        Arena by Soho Family   нет         бар   \n",
       "\n",
       "                                                               address  number  \n",
       "2313                город Москва, Измайловское шоссе, дом 71, корпус А    1040  \n",
       "3686                               город Москва, площадь Европы, дом 2    1200  \n",
       "4480           город Москва, Кутузовский проспект, дом 2/1, строение 1    1200  \n",
       "8148   город Москва, Большой Саввинский переулок, дом 12, строение 10Г    1500  \n",
       "8345                              город Москва, улица Волхонка, дом 15    1400  \n",
       "9064            город Москва, проспект Вернадского, дом 84, строение 1    1288  \n",
       "12723          город Москва, Кутузовский проспект, дом 36, строение 11    1700  "
      ]
     },
     "execution_count": 211,
     "metadata": {},
     "output_type": "execute_result"
    }
   ],
   "source": [
    "df_clean[df_clean['number'] > 1000]"
   ]
  },
  {
   "cell_type": "code",
   "execution_count": 212,
   "metadata": {},
   "outputs": [
    {
     "data": {
      "text/plain": [
       "(13695, 6)"
      ]
     },
     "execution_count": 212,
     "metadata": {},
     "output_type": "execute_result"
    }
   ],
   "source": [
    "df_clean.shape"
   ]
  },
  {
   "cell_type": "markdown",
   "metadata": {},
   "source": [
    "### На данном этапе вынесем отдельно улицы из адреса"
   ]
  },
  {
   "cell_type": "code",
   "execution_count": 213,
   "metadata": {},
   "outputs": [],
   "source": [
    "type_street = ['улица', 'переулок', 'шоссе', 'площадь', 'бульвар', 'проезд', 'тупик', 'просек',   \n",
    "               'проспект', 'набережная', 'аллея', 'квартал', 'линия', 'микрорайон', 'город Зеленоград', 'город зеленоград']"
   ]
  },
  {
   "cell_type": "code",
   "execution_count": 214,
   "metadata": {},
   "outputs": [],
   "source": [
    "def split_street(s):\n",
    "    for street in type_street:\n",
    "        if s.lower().find(street) !=-1:\n",
    "            flag = True\n",
    "            break\n",
    "        else: flag = False\n",
    "    return flag"
   ]
  },
  {
   "cell_type": "code",
   "execution_count": 215,
   "metadata": {},
   "outputs": [
    {
     "data": {
      "text/html": [
       "<div>\n",
       "<style scoped>\n",
       "    .dataframe tbody tr th:only-of-type {\n",
       "        vertical-align: middle;\n",
       "    }\n",
       "\n",
       "    .dataframe tbody tr th {\n",
       "        vertical-align: top;\n",
       "    }\n",
       "\n",
       "    .dataframe thead th {\n",
       "        text-align: right;\n",
       "    }\n",
       "</style>\n",
       "<table border=\"1\" class=\"dataframe\">\n",
       "  <thead>\n",
       "    <tr style=\"text-align: right;\">\n",
       "      <th></th>\n",
       "      <th>id</th>\n",
       "      <th>object_name</th>\n",
       "      <th>chain</th>\n",
       "      <th>object_type</th>\n",
       "      <th>address</th>\n",
       "      <th>number</th>\n",
       "    </tr>\n",
       "  </thead>\n",
       "  <tbody>\n",
       "    <tr>\n",
       "      <th>1853</th>\n",
       "      <td>77651</td>\n",
       "      <td>Щербенко Л.А.</td>\n",
       "      <td>нет</td>\n",
       "      <td>кафе</td>\n",
       "      <td>город Москва, поселение Вороновское, село Вороново, дом 110</td>\n",
       "      <td>50</td>\n",
       "    </tr>\n",
       "    <tr>\n",
       "      <th>1859</th>\n",
       "      <td>120302</td>\n",
       "      <td>Магбургер АЗС №16</td>\n",
       "      <td>да</td>\n",
       "      <td>предприятие быстрого обслуживания</td>\n",
       "      <td>город Москва, поселение Внуковское, деревня Ликова, дом 1А</td>\n",
       "      <td>25</td>\n",
       "    </tr>\n",
       "    <tr>\n",
       "      <th>1861</th>\n",
       "      <td>77870</td>\n",
       "      <td>Кафе</td>\n",
       "      <td>нет</td>\n",
       "      <td>кафе</td>\n",
       "      <td>город Москва, поселение Десеновское, деревня Десна, дом 144УЧ</td>\n",
       "      <td>15</td>\n",
       "    </tr>\n",
       "    <tr>\n",
       "      <th>1874</th>\n",
       "      <td>79716</td>\n",
       "      <td>Шоколадница</td>\n",
       "      <td>да</td>\n",
       "      <td>кафе</td>\n",
       "      <td>город Москва, поселение Московский, деревня Говорово, дом 1Б/Н</td>\n",
       "      <td>45</td>\n",
       "    </tr>\n",
       "    <tr>\n",
       "      <th>1875</th>\n",
       "      <td>99687</td>\n",
       "      <td>Крошка Картошка</td>\n",
       "      <td>да</td>\n",
       "      <td>предприятие быстрого обслуживания</td>\n",
       "      <td>город Москва, поселение Московский, деревня Говорово, дом 1Б/Н</td>\n",
       "      <td>40</td>\n",
       "    </tr>\n",
       "    <tr>\n",
       "      <th>...</th>\n",
       "      <td>...</td>\n",
       "      <td>...</td>\n",
       "      <td>...</td>\n",
       "      <td>...</td>\n",
       "      <td>...</td>\n",
       "      <td>...</td>\n",
       "    </tr>\n",
       "    <tr>\n",
       "      <th>14979</th>\n",
       "      <td>213734</td>\n",
       "      <td>Кафе</td>\n",
       "      <td>нет</td>\n",
       "      <td>кафе</td>\n",
       "      <td>город Москва, поселение Воскресенское, деревня Ямонтово, владение 71</td>\n",
       "      <td>8</td>\n",
       "    </tr>\n",
       "    <tr>\n",
       "      <th>14981</th>\n",
       "      <td>216909</td>\n",
       "      <td>Кафе</td>\n",
       "      <td>нет</td>\n",
       "      <td>буфет</td>\n",
       "      <td>город Москва, поселение Десеновское, деревня Ватутинки, дом 34</td>\n",
       "      <td>10</td>\n",
       "    </tr>\n",
       "    <tr>\n",
       "      <th>14997</th>\n",
       "      <td>216942</td>\n",
       "      <td>Шашлычный дворик</td>\n",
       "      <td>нет</td>\n",
       "      <td>кафе</td>\n",
       "      <td>город Москва, поселение Десеновское, деревня Ватутинки, владение 10</td>\n",
       "      <td>15</td>\n",
       "    </tr>\n",
       "    <tr>\n",
       "      <th>14998</th>\n",
       "      <td>216926</td>\n",
       "      <td>Кафе «Сахли»</td>\n",
       "      <td>нет</td>\n",
       "      <td>закусочная</td>\n",
       "      <td>город Москва, поселение Десеновское, деревня Ватутинки, владение 15</td>\n",
       "      <td>10</td>\n",
       "    </tr>\n",
       "    <tr>\n",
       "      <th>15015</th>\n",
       "      <td>208239</td>\n",
       "      <td>ГАЗПРОМНЕФТЬ</td>\n",
       "      <td>нет</td>\n",
       "      <td>кафе</td>\n",
       "      <td>поселение \"Мосрентген\", деревня Дудкино, владение 1</td>\n",
       "      <td>20</td>\n",
       "    </tr>\n",
       "  </tbody>\n",
       "</table>\n",
       "<p>171 rows × 6 columns</p>\n",
       "</div>"
      ],
      "text/plain": [
       "           id        object_name chain                        object_type  \\\n",
       "1853    77651      Щербенко Л.А.   нет                               кафе   \n",
       "1859   120302  Магбургер АЗС №16    да  предприятие быстрого обслуживания   \n",
       "1861    77870               Кафе   нет                               кафе   \n",
       "1874    79716        Шоколадница    да                               кафе   \n",
       "1875    99687    Крошка Картошка    да  предприятие быстрого обслуживания   \n",
       "...       ...                ...   ...                                ...   \n",
       "14979  213734               Кафе   нет                               кафе   \n",
       "14981  216909               Кафе   нет                              буфет   \n",
       "14997  216942   Шашлычный дворик   нет                               кафе   \n",
       "14998  216926       Кафе «Сахли»   нет                         закусочная   \n",
       "15015  208239       ГАЗПРОМНЕФТЬ   нет                               кафе   \n",
       "\n",
       "                                                                    address  \\\n",
       "1853            город Москва, поселение Вороновское, село Вороново, дом 110   \n",
       "1859             город Москва, поселение Внуковское, деревня Ликова, дом 1А   \n",
       "1861          город Москва, поселение Десеновское, деревня Десна, дом 144УЧ   \n",
       "1874         город Москва, поселение Московский, деревня Говорово, дом 1Б/Н   \n",
       "1875         город Москва, поселение Московский, деревня Говорово, дом 1Б/Н   \n",
       "...                                                                     ...   \n",
       "14979  город Москва, поселение Воскресенское, деревня Ямонтово, владение 71   \n",
       "14981        город Москва, поселение Десеновское, деревня Ватутинки, дом 34   \n",
       "14997   город Москва, поселение Десеновское, деревня Ватутинки, владение 10   \n",
       "14998   город Москва, поселение Десеновское, деревня Ватутинки, владение 15   \n",
       "15015                   поселение \"Мосрентген\", деревня Дудкино, владение 1   \n",
       "\n",
       "       number  \n",
       "1853       50  \n",
       "1859       25  \n",
       "1861       15  \n",
       "1874       45  \n",
       "1875       40  \n",
       "...       ...  \n",
       "14979       8  \n",
       "14981      10  \n",
       "14997      15  \n",
       "14998      10  \n",
       "15015      20  \n",
       "\n",
       "[171 rows x 6 columns]"
      ]
     },
     "execution_count": 215,
     "metadata": {},
     "output_type": "execute_result"
    }
   ],
   "source": [
    "df_clean[~df_clean['address'].apply(split_street)] "
   ]
  },
  {
   "cell_type": "markdown",
   "metadata": {},
   "source": [
    "Оставим в нашей выборке только те адреса, в которых большая населенность"
   ]
  },
  {
   "cell_type": "code",
   "execution_count": 216,
   "metadata": {},
   "outputs": [
    {
     "name": "stderr",
     "output_type": "stream",
     "text": [
      "C:\\Users\\User\\AppData\\Local\\Temp\\ipykernel_5788\\1157677768.py:1: SettingWithCopyWarning: \n",
      "A value is trying to be set on a copy of a slice from a DataFrame\n",
      "\n",
      "See the caveats in the documentation: https://pandas.pydata.org/pandas-docs/stable/user_guide/indexing.html#returning-a-view-versus-a-copy\n",
      "  df_clean.drop(df_clean[~df_clean['address'].apply(split_street)].index, inplace = True)\n"
     ]
    },
    {
     "data": {
      "text/html": [
       "<div>\n",
       "<style scoped>\n",
       "    .dataframe tbody tr th:only-of-type {\n",
       "        vertical-align: middle;\n",
       "    }\n",
       "\n",
       "    .dataframe tbody tr th {\n",
       "        vertical-align: top;\n",
       "    }\n",
       "\n",
       "    .dataframe thead th {\n",
       "        text-align: right;\n",
       "    }\n",
       "</style>\n",
       "<table border=\"1\" class=\"dataframe\">\n",
       "  <thead>\n",
       "    <tr style=\"text-align: right;\">\n",
       "      <th></th>\n",
       "      <th>id</th>\n",
       "      <th>object_name</th>\n",
       "      <th>chain</th>\n",
       "      <th>object_type</th>\n",
       "      <th>address</th>\n",
       "      <th>number</th>\n",
       "    </tr>\n",
       "  </thead>\n",
       "  <tbody>\n",
       "    <tr>\n",
       "      <th>0</th>\n",
       "      <td>151635</td>\n",
       "      <td>СМЕТАНА</td>\n",
       "      <td>нет</td>\n",
       "      <td>кафе</td>\n",
       "      <td>город Москва, улица Егора Абакумова, дом 9</td>\n",
       "      <td>48</td>\n",
       "    </tr>\n",
       "    <tr>\n",
       "      <th>1</th>\n",
       "      <td>77874</td>\n",
       "      <td>Родник</td>\n",
       "      <td>нет</td>\n",
       "      <td>кафе</td>\n",
       "      <td>город Москва, улица Талалихина, дом 2/1, корпус 1</td>\n",
       "      <td>35</td>\n",
       "    </tr>\n",
       "    <tr>\n",
       "      <th>2</th>\n",
       "      <td>24309</td>\n",
       "      <td>Кафе «Академия»</td>\n",
       "      <td>нет</td>\n",
       "      <td>кафе</td>\n",
       "      <td>город Москва, Абельмановская улица, дом 6</td>\n",
       "      <td>95</td>\n",
       "    </tr>\n",
       "    <tr>\n",
       "      <th>3</th>\n",
       "      <td>21894</td>\n",
       "      <td>ПИЦЦЕТОРИЯ</td>\n",
       "      <td>да</td>\n",
       "      <td>кафе</td>\n",
       "      <td>город Москва, Абрамцевская улица, дом 1</td>\n",
       "      <td>40</td>\n",
       "    </tr>\n",
       "    <tr>\n",
       "      <th>4</th>\n",
       "      <td>119365</td>\n",
       "      <td>Кафе «Вишневая метель»</td>\n",
       "      <td>нет</td>\n",
       "      <td>кафе</td>\n",
       "      <td>город Москва, Абрамцевская улица, дом 9, корпус 1</td>\n",
       "      <td>50</td>\n",
       "    </tr>\n",
       "    <tr>\n",
       "      <th>...</th>\n",
       "      <td>...</td>\n",
       "      <td>...</td>\n",
       "      <td>...</td>\n",
       "      <td>...</td>\n",
       "      <td>...</td>\n",
       "      <td>...</td>\n",
       "    </tr>\n",
       "    <tr>\n",
       "      <th>13519</th>\n",
       "      <td>208537</td>\n",
       "      <td>Шоколадница</td>\n",
       "      <td>да</td>\n",
       "      <td>кафе</td>\n",
       "      <td>город Москва, 3-й Крутицкий переулок, дом 18</td>\n",
       "      <td>50</td>\n",
       "    </tr>\n",
       "    <tr>\n",
       "      <th>13520</th>\n",
       "      <td>209264</td>\n",
       "      <td>Шоколадница</td>\n",
       "      <td>да</td>\n",
       "      <td>кафе</td>\n",
       "      <td>город Москва, улица Земляной Вал, дом 33</td>\n",
       "      <td>10</td>\n",
       "    </tr>\n",
       "    <tr>\n",
       "      <th>13521</th>\n",
       "      <td>209186</td>\n",
       "      <td>Шоколадница</td>\n",
       "      <td>да</td>\n",
       "      <td>кафе</td>\n",
       "      <td>город Москва, улица Земляной Вал, дом 33</td>\n",
       "      <td>20</td>\n",
       "    </tr>\n",
       "    <tr>\n",
       "      <th>13522</th>\n",
       "      <td>221900</td>\n",
       "      <td>Шоколадница</td>\n",
       "      <td>да</td>\n",
       "      <td>кафе</td>\n",
       "      <td>город Москва, поселение Московский, Киевское шоссе, 22-й километр, домовладение 4, строение 1</td>\n",
       "      <td>36</td>\n",
       "    </tr>\n",
       "    <tr>\n",
       "      <th>13523</th>\n",
       "      <td>222535</td>\n",
       "      <td>Шоколадница</td>\n",
       "      <td>да</td>\n",
       "      <td>кафе</td>\n",
       "      <td>город Москва, Ходынский бульвар, дом 4</td>\n",
       "      <td>10</td>\n",
       "    </tr>\n",
       "  </tbody>\n",
       "</table>\n",
       "<p>13524 rows × 6 columns</p>\n",
       "</div>"
      ],
      "text/plain": [
       "           id             object_name chain object_type  \\\n",
       "0      151635                 СМЕТАНА   нет        кафе   \n",
       "1       77874                  Родник   нет        кафе   \n",
       "2       24309         Кафе «Академия»   нет        кафе   \n",
       "3       21894              ПИЦЦЕТОРИЯ    да        кафе   \n",
       "4      119365  Кафе «Вишневая метель»   нет        кафе   \n",
       "...       ...                     ...   ...         ...   \n",
       "13519  208537             Шоколадница    да        кафе   \n",
       "13520  209264             Шоколадница    да        кафе   \n",
       "13521  209186             Шоколадница    да        кафе   \n",
       "13522  221900             Шоколадница    да        кафе   \n",
       "13523  222535             Шоколадница    да        кафе   \n",
       "\n",
       "                                                                                             address  \\\n",
       "0                                                         город Москва, улица Егора Абакумова, дом 9   \n",
       "1                                                  город Москва, улица Талалихина, дом 2/1, корпус 1   \n",
       "2                                                          город Москва, Абельмановская улица, дом 6   \n",
       "3                                                            город Москва, Абрамцевская улица, дом 1   \n",
       "4                                                  город Москва, Абрамцевская улица, дом 9, корпус 1   \n",
       "...                                                                                              ...   \n",
       "13519                                                   город Москва, 3-й Крутицкий переулок, дом 18   \n",
       "13520                                                       город Москва, улица Земляной Вал, дом 33   \n",
       "13521                                                       город Москва, улица Земляной Вал, дом 33   \n",
       "13522  город Москва, поселение Московский, Киевское шоссе, 22-й километр, домовладение 4, строение 1   \n",
       "13523                                                         город Москва, Ходынский бульвар, дом 4   \n",
       "\n",
       "       number  \n",
       "0          48  \n",
       "1          35  \n",
       "2          95  \n",
       "3          40  \n",
       "4          50  \n",
       "...       ...  \n",
       "13519      50  \n",
       "13520      10  \n",
       "13521      20  \n",
       "13522      36  \n",
       "13523      10  \n",
       "\n",
       "[13524 rows x 6 columns]"
      ]
     },
     "execution_count": 216,
     "metadata": {},
     "output_type": "execute_result"
    }
   ],
   "source": [
    "df_clean.drop(df_clean[~df_clean['address'].apply(split_street)].index, inplace = True)\n",
    "df_clean = df_clean.reset_index(drop=True)\n",
    "df_clean "
   ]
  },
  {
   "cell_type": "markdown",
   "metadata": {},
   "source": [
    "### Теперь, получив полный список типов улиц, встречающихся в адресах, выделим в отдельный столбец их названия. Для этого:\n",
    "\n",
    "- разобъем каждый адрес методом `.split()` по символу `, `;\n",
    "- для каждого из выявленных типов проверим его вхождение в каждый элемент разбиения. Если тип улицы содержится в элементе разбиения, то этот элемент разбиения является улицей. "
   ]
  },
  {
   "cell_type": "code",
   "execution_count": 217,
   "metadata": {},
   "outputs": [],
   "source": [
    "def find_street(address):\n",
    "    for address_split in address.split(', '):\n",
    "        for st_type in type_street:\n",
    "            if address_split.lower().find(st_type) != -1:\n",
    "                return address_split"
   ]
  },
  {
   "cell_type": "code",
   "execution_count": 218,
   "metadata": {},
   "outputs": [
    {
     "data": {
      "text/html": [
       "<div>\n",
       "<style scoped>\n",
       "    .dataframe tbody tr th:only-of-type {\n",
       "        vertical-align: middle;\n",
       "    }\n",
       "\n",
       "    .dataframe tbody tr th {\n",
       "        vertical-align: top;\n",
       "    }\n",
       "\n",
       "    .dataframe thead th {\n",
       "        text-align: right;\n",
       "    }\n",
       "</style>\n",
       "<table border=\"1\" class=\"dataframe\">\n",
       "  <thead>\n",
       "    <tr style=\"text-align: right;\">\n",
       "      <th></th>\n",
       "      <th>id</th>\n",
       "      <th>object_name</th>\n",
       "      <th>chain</th>\n",
       "      <th>object_type</th>\n",
       "      <th>address</th>\n",
       "      <th>number</th>\n",
       "      <th>street</th>\n",
       "    </tr>\n",
       "  </thead>\n",
       "  <tbody>\n",
       "    <tr>\n",
       "      <th>0</th>\n",
       "      <td>151635</td>\n",
       "      <td>СМЕТАНА</td>\n",
       "      <td>нет</td>\n",
       "      <td>кафе</td>\n",
       "      <td>город Москва, улица Егора Абакумова, дом 9</td>\n",
       "      <td>48</td>\n",
       "      <td>улица Егора Абакумова</td>\n",
       "    </tr>\n",
       "    <tr>\n",
       "      <th>1</th>\n",
       "      <td>77874</td>\n",
       "      <td>Родник</td>\n",
       "      <td>нет</td>\n",
       "      <td>кафе</td>\n",
       "      <td>город Москва, улица Талалихина, дом 2/1, корпус 1</td>\n",
       "      <td>35</td>\n",
       "      <td>улица Талалихина</td>\n",
       "    </tr>\n",
       "    <tr>\n",
       "      <th>2</th>\n",
       "      <td>24309</td>\n",
       "      <td>Кафе «Академия»</td>\n",
       "      <td>нет</td>\n",
       "      <td>кафе</td>\n",
       "      <td>город Москва, Абельмановская улица, дом 6</td>\n",
       "      <td>95</td>\n",
       "      <td>Абельмановская улица</td>\n",
       "    </tr>\n",
       "    <tr>\n",
       "      <th>3</th>\n",
       "      <td>21894</td>\n",
       "      <td>ПИЦЦЕТОРИЯ</td>\n",
       "      <td>да</td>\n",
       "      <td>кафе</td>\n",
       "      <td>город Москва, Абрамцевская улица, дом 1</td>\n",
       "      <td>40</td>\n",
       "      <td>Абрамцевская улица</td>\n",
       "    </tr>\n",
       "    <tr>\n",
       "      <th>4</th>\n",
       "      <td>119365</td>\n",
       "      <td>Кафе «Вишневая метель»</td>\n",
       "      <td>нет</td>\n",
       "      <td>кафе</td>\n",
       "      <td>город Москва, Абрамцевская улица, дом 9, корпус 1</td>\n",
       "      <td>50</td>\n",
       "      <td>Абрамцевская улица</td>\n",
       "    </tr>\n",
       "    <tr>\n",
       "      <th>...</th>\n",
       "      <td>...</td>\n",
       "      <td>...</td>\n",
       "      <td>...</td>\n",
       "      <td>...</td>\n",
       "      <td>...</td>\n",
       "      <td>...</td>\n",
       "      <td>...</td>\n",
       "    </tr>\n",
       "    <tr>\n",
       "      <th>13519</th>\n",
       "      <td>208537</td>\n",
       "      <td>Шоколадница</td>\n",
       "      <td>да</td>\n",
       "      <td>кафе</td>\n",
       "      <td>город Москва, 3-й Крутицкий переулок, дом 18</td>\n",
       "      <td>50</td>\n",
       "      <td>3-й Крутицкий переулок</td>\n",
       "    </tr>\n",
       "    <tr>\n",
       "      <th>13520</th>\n",
       "      <td>209264</td>\n",
       "      <td>Шоколадница</td>\n",
       "      <td>да</td>\n",
       "      <td>кафе</td>\n",
       "      <td>город Москва, улица Земляной Вал, дом 33</td>\n",
       "      <td>10</td>\n",
       "      <td>улица Земляной Вал</td>\n",
       "    </tr>\n",
       "    <tr>\n",
       "      <th>13521</th>\n",
       "      <td>209186</td>\n",
       "      <td>Шоколадница</td>\n",
       "      <td>да</td>\n",
       "      <td>кафе</td>\n",
       "      <td>город Москва, улица Земляной Вал, дом 33</td>\n",
       "      <td>20</td>\n",
       "      <td>улица Земляной Вал</td>\n",
       "    </tr>\n",
       "    <tr>\n",
       "      <th>13522</th>\n",
       "      <td>221900</td>\n",
       "      <td>Шоколадница</td>\n",
       "      <td>да</td>\n",
       "      <td>кафе</td>\n",
       "      <td>город Москва, поселение Московский, Киевское шоссе, 22-й километр, домовладение 4, строение 1</td>\n",
       "      <td>36</td>\n",
       "      <td>Киевское шоссе</td>\n",
       "    </tr>\n",
       "    <tr>\n",
       "      <th>13523</th>\n",
       "      <td>222535</td>\n",
       "      <td>Шоколадница</td>\n",
       "      <td>да</td>\n",
       "      <td>кафе</td>\n",
       "      <td>город Москва, Ходынский бульвар, дом 4</td>\n",
       "      <td>10</td>\n",
       "      <td>Ходынский бульвар</td>\n",
       "    </tr>\n",
       "  </tbody>\n",
       "</table>\n",
       "<p>13524 rows × 7 columns</p>\n",
       "</div>"
      ],
      "text/plain": [
       "           id             object_name chain object_type  \\\n",
       "0      151635                 СМЕТАНА   нет        кафе   \n",
       "1       77874                  Родник   нет        кафе   \n",
       "2       24309         Кафе «Академия»   нет        кафе   \n",
       "3       21894              ПИЦЦЕТОРИЯ    да        кафе   \n",
       "4      119365  Кафе «Вишневая метель»   нет        кафе   \n",
       "...       ...                     ...   ...         ...   \n",
       "13519  208537             Шоколадница    да        кафе   \n",
       "13520  209264             Шоколадница    да        кафе   \n",
       "13521  209186             Шоколадница    да        кафе   \n",
       "13522  221900             Шоколадница    да        кафе   \n",
       "13523  222535             Шоколадница    да        кафе   \n",
       "\n",
       "                                                                                             address  \\\n",
       "0                                                         город Москва, улица Егора Абакумова, дом 9   \n",
       "1                                                  город Москва, улица Талалихина, дом 2/1, корпус 1   \n",
       "2                                                          город Москва, Абельмановская улица, дом 6   \n",
       "3                                                            город Москва, Абрамцевская улица, дом 1   \n",
       "4                                                  город Москва, Абрамцевская улица, дом 9, корпус 1   \n",
       "...                                                                                              ...   \n",
       "13519                                                   город Москва, 3-й Крутицкий переулок, дом 18   \n",
       "13520                                                       город Москва, улица Земляной Вал, дом 33   \n",
       "13521                                                       город Москва, улица Земляной Вал, дом 33   \n",
       "13522  город Москва, поселение Московский, Киевское шоссе, 22-й километр, домовладение 4, строение 1   \n",
       "13523                                                         город Москва, Ходынский бульвар, дом 4   \n",
       "\n",
       "       number                  street  \n",
       "0          48   улица Егора Абакумова  \n",
       "1          35        улица Талалихина  \n",
       "2          95    Абельмановская улица  \n",
       "3          40      Абрамцевская улица  \n",
       "4          50      Абрамцевская улица  \n",
       "...       ...                     ...  \n",
       "13519      50  3-й Крутицкий переулок  \n",
       "13520      10      улица Земляной Вал  \n",
       "13521      20      улица Земляной Вал  \n",
       "13522      36          Киевское шоссе  \n",
       "13523      10       Ходынский бульвар  \n",
       "\n",
       "[13524 rows x 7 columns]"
      ]
     },
     "execution_count": 218,
     "metadata": {},
     "output_type": "execute_result"
    }
   ],
   "source": [
    "df_clean['street'] = df_clean['address'].apply(find_street)\n",
    "df_clean"
   ]
  },
  {
   "cell_type": "markdown",
   "metadata": {},
   "source": [
    "## Топ-20 улиц по количеству объектов общественного питания"
   ]
  },
  {
   "cell_type": "code",
   "execution_count": 219,
   "metadata": {},
   "outputs": [
    {
     "name": "stdout",
     "output_type": "stream",
     "text": [
      "Топ-20 улиц по количеству заведений:\n",
      "                        street  count_objects_name\n",
      "1342         город Зеленоград                 225\n",
      "1393            проспект Мира                 192\n",
      "678    Ленинградский проспект                 159\n",
      "983    Пресненская набережная                 156\n",
      "399          Варшавское шоссе                 144\n",
      "997         Профсоюзная улица                 143\n",
      "681        Ленинский проспект                 138\n",
      "1390     проспект Вернадского                 126\n",
      "668      Кутузовский проспект                  98\n",
      "593           Каширское шоссе                  96\n",
      "491         Дмитровское шоссе                  93\n",
      "679       Ленинградское шоссе                  90\n",
      "599      Кировоградская улица                  85\n",
      "1623  улица Ленинская Слобода                  84\n",
      "1008          Пятницкая улица                  80\n",
      "1810      улица Сущёвский Вал                  79\n",
      "1556       улица Земляной Вал                  78\n",
      "1732           улица Покровка                  76\n",
      "1675     улица Миклухо-Маклая                  75\n",
      "1439              улица Арбат                  73\n"
     ]
    }
   ],
   "source": [
    "top_streets = df_clean.groupby('street', as_index=False).agg({'object_name':'count'})\n",
    "top_streets.columns = ['street', 'count_objects_name']\n",
    "top_streets = top_streets.sort_values(by='count_objects_name', ascending = False)\n",
    "top20_streets = top_streets.head(20)\n",
    "print('Топ-20 улиц по количеству заведений:\\n', top20_streets)"
   ]
  },
  {
   "cell_type": "markdown",
   "metadata": {},
   "source": [
    "#### И выведем информацию по улицам на которых наименьшее количество заведений. Это на случай понимания в каком месте открывать новое заведение (не в загруженных местах и достаточно населенных) (Москва)"
   ]
  },
  {
   "cell_type": "code",
   "execution_count": 220,
   "metadata": {},
   "outputs": [
    {
     "name": "stdout",
     "output_type": "stream",
     "text": [
      "20 улиц по наименьшему количеству заведений:\n",
      "                         street  count_objects_name\n",
      "868   Новопресненский переулок                   1\n",
      "1332          аллея Жемчуговой                   1\n",
      "496          Докучаев переулок                   1\n",
      "494      Добровольческая улица                   1\n",
      "489       Дмитровский переулок                   1\n",
      "488          Дивизионная улица                   1\n",
      "1313          Юрловский проезд                   1\n",
      "487          Джанкойская улица                   1\n",
      "1317       Якиманский переулок                   1\n",
      "1319           Ялтинская улица                   1\n",
      "1320           Янтарный проезд                   1\n",
      "483          Денежный переулок                   1\n",
      "481          Делегатская улица                   1\n",
      "867       Новопоселковая улица                   1\n",
      "1325               Ясная улица                   1\n",
      "1326         Ясногорская улица                   1\n",
      "479         Дегтярный переулок                   1\n",
      "1329           Яузский бульвар                   1\n",
      "1330           Яхромская улица                   1\n",
      "931          Пенягинская улица                   1\n"
     ]
    }
   ],
   "source": [
    "bottom_streets = df_clean.groupby('street', as_index=False).agg({'object_name':'count'})\n",
    "bottom_streets.columns = ['street', 'count_objects_name']\n",
    "bottom_streets = bottom_streets.sort_values(by='count_objects_name', ascending = False)\n",
    "bottom20_streets = bottom_streets.tail(20)\n",
    "print('20 улиц по наименьшему количеству заведений:\\n', bottom20_streets)"
   ]
  },
  {
   "cell_type": "code",
   "execution_count": 221,
   "metadata": {},
   "outputs": [
    {
     "name": "stdout",
     "output_type": "stream",
     "text": [
      "На 566 улицах расположено по одному объекту общественного питания.\n",
      "Это 30.40% процентов от общего количества улиц с объектами общепита.\n"
     ]
    }
   ],
   "source": [
    "streets_one_object = top_streets[top_streets['count_objects_name'] == 1]\n",
    "print('На {} улицах расположено по одному объекту общественного питания.'.\\\n",
    "      format(streets_one_object.shape[0]))\n",
    "print('Это {:.2%} процентов от общего количества улиц с объектами общепита.'.\\\n",
    "      format(streets_one_object.shape[0]/top_streets.shape[0]))"
   ]
  },
  {
   "cell_type": "code",
   "execution_count": 222,
   "metadata": {},
   "outputs": [
    {
     "name": "stdout",
     "output_type": "stream",
     "text": [
      "На улицах из топ-20 расположено 2290 объектов общепита\n",
      "Это составляет 16.93% процентов от общего количества объектов общепита.\n"
     ]
    }
   ],
   "source": [
    "print('На улицах из топ-20 расположено {} объектов общепита'.\\\n",
    "      format(top20_streets.count_objects_name.sum()))\n",
    "\n",
    "print('Это составляет {:.2%} процентов от общего количества объектов общепита.'.\\\n",
    "      format(top20_streets.count_objects_name.sum()/df_clean.shape[0]))"
   ]
  },
  {
   "cell_type": "code",
   "execution_count": 223,
   "metadata": {},
   "outputs": [
    {
     "data": {
      "text/html": [
       "<div>\n",
       "<style scoped>\n",
       "    .dataframe tbody tr th:only-of-type {\n",
       "        vertical-align: middle;\n",
       "    }\n",
       "\n",
       "    .dataframe tbody tr th {\n",
       "        vertical-align: top;\n",
       "    }\n",
       "\n",
       "    .dataframe thead th {\n",
       "        text-align: right;\n",
       "    }\n",
       "</style>\n",
       "<table border=\"1\" class=\"dataframe\">\n",
       "  <thead>\n",
       "    <tr style=\"text-align: right;\">\n",
       "      <th></th>\n",
       "      <th>id</th>\n",
       "      <th>object_name</th>\n",
       "      <th>chain</th>\n",
       "      <th>object_type</th>\n",
       "      <th>address</th>\n",
       "      <th>number</th>\n",
       "      <th>street</th>\n",
       "    </tr>\n",
       "  </thead>\n",
       "  <tbody>\n",
       "    <tr>\n",
       "      <th>36</th>\n",
       "      <td>127979</td>\n",
       "      <td>Месопотамия</td>\n",
       "      <td>нет</td>\n",
       "      <td>ресторан</td>\n",
       "      <td>город Москва, улица Арбат, дом 4, строение 1</td>\n",
       "      <td>50</td>\n",
       "      <td>улица Арбат</td>\n",
       "    </tr>\n",
       "    <tr>\n",
       "      <th>37</th>\n",
       "      <td>24968</td>\n",
       "      <td>Му-Му</td>\n",
       "      <td>да</td>\n",
       "      <td>кафе</td>\n",
       "      <td>город Москва, улица Арбат, дом 4, строение 1</td>\n",
       "      <td>125</td>\n",
       "      <td>улица Арбат</td>\n",
       "    </tr>\n",
       "    <tr>\n",
       "      <th>38</th>\n",
       "      <td>127980</td>\n",
       "      <td>Хлеб насущный</td>\n",
       "      <td>да</td>\n",
       "      <td>кафе</td>\n",
       "      <td>город Москва, улица Арбат, дом 6/2</td>\n",
       "      <td>20</td>\n",
       "      <td>улица Арбат</td>\n",
       "    </tr>\n",
       "    <tr>\n",
       "      <th>39</th>\n",
       "      <td>88194</td>\n",
       "      <td>TAJJ MAHAL</td>\n",
       "      <td>да</td>\n",
       "      <td>ресторан</td>\n",
       "      <td>город Москва, улица Арбат, дом 6/2</td>\n",
       "      <td>100</td>\n",
       "      <td>улица Арбат</td>\n",
       "    </tr>\n",
       "    <tr>\n",
       "      <th>40</th>\n",
       "      <td>107496</td>\n",
       "      <td>Калифорния Дайнер</td>\n",
       "      <td>нет</td>\n",
       "      <td>кафе</td>\n",
       "      <td>город Москва, улица Арбат, дом 23, строение 1</td>\n",
       "      <td>150</td>\n",
       "      <td>улица Арбат</td>\n",
       "    </tr>\n",
       "  </tbody>\n",
       "</table>\n",
       "</div>"
      ],
      "text/plain": [
       "        id        object_name chain object_type  \\\n",
       "36  127979        Месопотамия   нет    ресторан   \n",
       "37   24968              Му-Му    да        кафе   \n",
       "38  127980      Хлеб насущный    да        кафе   \n",
       "39   88194         TAJJ MAHAL    да    ресторан   \n",
       "40  107496  Калифорния Дайнер   нет        кафе   \n",
       "\n",
       "                                          address  number       street  \n",
       "36   город Москва, улица Арбат, дом 4, строение 1      50  улица Арбат  \n",
       "37   город Москва, улица Арбат, дом 4, строение 1     125  улица Арбат  \n",
       "38             город Москва, улица Арбат, дом 6/2      20  улица Арбат  \n",
       "39             город Москва, улица Арбат, дом 6/2     100  улица Арбат  \n",
       "40  город Москва, улица Арбат, дом 23, строение 1     150  улица Арбат  "
      ]
     },
     "execution_count": 223,
     "metadata": {},
     "output_type": "execute_result"
    }
   ],
   "source": [
    "object_from_top_20_street = df_clean[df_clean['street'].isin(top20_streets.street.to_list())]\n",
    "object_from_top_20_street.head()"
   ]
  },
  {
   "cell_type": "code",
   "execution_count": 224,
   "metadata": {},
   "outputs": [
    {
     "data": {
      "image/png": "[encoded data removed]",
      "text/plain": [
       "<Figure size 1080x648 with 1 Axes>"
      ]
     },
     "metadata": {
      "needs_background": "light"
     },
     "output_type": "display_data"
    }
   ],
   "source": [
    "plt.figure(figsize=(15,9))\n",
    "sns.boxplot(data=object_from_top_20_street[object_from_top_20_street['number']>0], x='number', \n",
    "            y='street')\n",
    "plt.xlim(0,400)\n",
    "plt.title('Распределение количества посадочных мест в объектах общепита из топ-20 улиц', fontsize=12)\n",
    "plt.ylabel('')\n",
    "plt.xlabel('Количество посадочных мест', fontsize=12)\n",
    "plt.axvline(np.median(object_from_top_20_street['number']), linestyle='--', color='green', \n",
    "           linewidth = 4, \n",
    "           label = 'Медианное количество мест -- {:.0f}'.\\\n",
    "            format(np.median(object_from_top_20_street['number']).round()))\n",
    "plt.axvline(np.percentile(object_from_top_20_street['number'], 75), linestyle='--', color='blue', \n",
    "           linewidth = 4, \n",
    "           label = '75-я перцентиль по количеству мест -- {:.0f}'.\\\n",
    "            format(np.percentile(object_from_top_20_street['number'], 75).round()))\n",
    "plt.axvline(np.percentile(object_from_top_20_street['number'], 95), linestyle='--', color='red', \n",
    "           linewidth = 4, \n",
    "           label = '95-я перцентиль по количеству мест -- {:.0f}'.\\\n",
    "            format(np.percentile(object_from_top_20_street['number'], 95).round()))\n",
    "plt.legend(loc = 'upper right')\n",
    "plt.show()"
   ]
  },
  {
   "cell_type": "markdown",
   "metadata": {},
   "source": [
    "Как видим, 40 посадочных мест - самое оптимальное количество для заведения"
   ]
  },
  {
   "cell_type": "markdown",
   "metadata": {},
   "source": [
    "### Для полноты картины построим распределение типов объектов общепита, расположенных на улицах из топ-20"
   ]
  },
  {
   "cell_type": "code",
   "execution_count": 225,
   "metadata": {},
   "outputs": [],
   "source": [
    "count_object_type = object_from_top_20_street.groupby('object_type', as_index=False).\\\n",
    "agg({'object_name':'count'}).sort_values(by='object_name', ascending=False)\n",
    "count_object_type['percent'] = (count_object_type['object_name'] / count_object_type['object_name'].sum()*100).round(1)\n",
    "count_object_type.columns = ['object_type', 'count_object_type', 'percent']"
   ]
  },
  {
   "cell_type": "code",
   "execution_count": 226,
   "metadata": {},
   "outputs": [
    {
     "data": {
      "image/png": "[encoded data removed]",
      "text/plain": [
       "<Figure size 1080x360 with 2 Axes>"
      ]
     },
     "metadata": {
      "needs_background": "light"
     },
     "output_type": "display_data"
    }
   ],
   "source": [
    "fig, ax = plt.subplots(1, 2, figsize = (15,5))\n",
    "plt.subplot(121)\n",
    "ax=sns.barplot(x = 'object_type', y = 'count_object_type', data =count_object_type)\n",
    "ax.set_xticklabels(ax.get_xticklabels(), rotation=30,  ha=\"right\", fontsize=12)\n",
    "ax.set_title('Распределение типов объектов общепита из топ-20 улиц', fontsize=12)\n",
    "plt.xlabel('Тип объекта общепита', fontsize=12)\n",
    "plt.ylabel('Число объектов', fontsize=12)\n",
    "plt.subplot(122)\n",
    "ax=sns.barplot(x = 'object_type', y = 'percent', data =count_object_type)\n",
    "ax.set_xticklabels(ax.get_xticklabels(), rotation=30,  ha=\"right\", fontsize=12)\n",
    "ax.set_title('Распределение долей видов объектов общепита из топ-20 улиц', fontsize=12)\n",
    "plt.xlabel('Тип объекта общепита', fontsize=12)\n",
    "plt.ylabel('Доля объектов', fontsize=12);"
   ]
  },
  {
   "cell_type": "markdown",
   "metadata": {},
   "source": [
    "#### Кафе - самый распространенный тип заведения на загруженных улицах"
   ]
  },
  {
   "cell_type": "markdown",
   "metadata": {},
   "source": [
    "### А теперь посмотрим какой тип заведения в основном есть на не загруженных общественным питанием улицах"
   ]
  },
  {
   "cell_type": "code",
   "execution_count": 227,
   "metadata": {},
   "outputs": [
    {
     "data": {
      "text/html": [
       "<div>\n",
       "<style scoped>\n",
       "    .dataframe tbody tr th:only-of-type {\n",
       "        vertical-align: middle;\n",
       "    }\n",
       "\n",
       "    .dataframe tbody tr th {\n",
       "        vertical-align: top;\n",
       "    }\n",
       "\n",
       "    .dataframe thead th {\n",
       "        text-align: right;\n",
       "    }\n",
       "</style>\n",
       "<table border=\"1\" class=\"dataframe\">\n",
       "  <thead>\n",
       "    <tr style=\"text-align: right;\">\n",
       "      <th></th>\n",
       "      <th>id</th>\n",
       "      <th>object_name</th>\n",
       "      <th>chain</th>\n",
       "      <th>object_type</th>\n",
       "      <th>address</th>\n",
       "      <th>number</th>\n",
       "      <th>street</th>\n",
       "    </tr>\n",
       "  </thead>\n",
       "  <tbody>\n",
       "    <tr>\n",
       "      <th>1356</th>\n",
       "      <td>87543</td>\n",
       "      <td>Кафе «One Teaspoon»</td>\n",
       "      <td>нет</td>\n",
       "      <td>кафе</td>\n",
       "      <td>город Москва, Яузский бульвар, дом 14/8</td>\n",
       "      <td>16</td>\n",
       "      <td>Яузский бульвар</td>\n",
       "    </tr>\n",
       "    <tr>\n",
       "      <th>1836</th>\n",
       "      <td>27436</td>\n",
       "      <td>ШКОЛА 1381</td>\n",
       "      <td>нет</td>\n",
       "      <td>столовая</td>\n",
       "      <td>город Москва, Янтарный проезд, дом 2</td>\n",
       "      <td>300</td>\n",
       "      <td>Янтарный проезд</td>\n",
       "    </tr>\n",
       "    <tr>\n",
       "      <th>1876</th>\n",
       "      <td>25970</td>\n",
       "      <td>Бюргер</td>\n",
       "      <td>нет</td>\n",
       "      <td>бар</td>\n",
       "      <td>город Москва, Докучаев переулок, дом 6, строение 2</td>\n",
       "      <td>60</td>\n",
       "      <td>Докучаев переулок</td>\n",
       "    </tr>\n",
       "    <tr>\n",
       "      <th>2343</th>\n",
       "      <td>19822</td>\n",
       "      <td>Столовая</td>\n",
       "      <td>нет</td>\n",
       "      <td>столовая</td>\n",
       "      <td>город Москва, Дивизионная улица, дом 4</td>\n",
       "      <td>80</td>\n",
       "      <td>Дивизионная улица</td>\n",
       "    </tr>\n",
       "    <tr>\n",
       "      <th>2473</th>\n",
       "      <td>26686</td>\n",
       "      <td>ТЕРРИТОРИЯ ЯСЕНЕВО</td>\n",
       "      <td>да</td>\n",
       "      <td>ресторан</td>\n",
       "      <td>город Москва, Ясногорская улица, дом 2</td>\n",
       "      <td>200</td>\n",
       "      <td>Ясногорская улица</td>\n",
       "    </tr>\n",
       "  </tbody>\n",
       "</table>\n",
       "</div>"
      ],
      "text/plain": [
       "         id          object_name chain object_type  \\\n",
       "1356  87543  Кафе «One Teaspoon»   нет        кафе   \n",
       "1836  27436           ШКОЛА 1381   нет    столовая   \n",
       "1876  25970               Бюргер   нет         бар   \n",
       "2343  19822             Столовая   нет    столовая   \n",
       "2473  26686   ТЕРРИТОРИЯ ЯСЕНЕВО    да    ресторан   \n",
       "\n",
       "                                                 address  number  \\\n",
       "1356             город Москва, Яузский бульвар, дом 14/8      16   \n",
       "1836                город Москва, Янтарный проезд, дом 2     300   \n",
       "1876  город Москва, Докучаев переулок, дом 6, строение 2      60   \n",
       "2343              город Москва, Дивизионная улица, дом 4      80   \n",
       "2473              город Москва, Ясногорская улица, дом 2     200   \n",
       "\n",
       "                 street  \n",
       "1356    Яузский бульвар  \n",
       "1836    Янтарный проезд  \n",
       "1876  Докучаев переулок  \n",
       "2343  Дивизионная улица  \n",
       "2473  Ясногорская улица  "
      ]
     },
     "execution_count": 227,
     "metadata": {},
     "output_type": "execute_result"
    }
   ],
   "source": [
    "object_from_bottom_20_street = df_clean[df_clean['street'].isin(bottom20_streets.street.to_list())]\n",
    "object_from_bottom_20_street.head()"
   ]
  },
  {
   "cell_type": "code",
   "execution_count": 228,
   "metadata": {},
   "outputs": [],
   "source": [
    "count_object_type_bottom = object_from_bottom_20_street.groupby('object_type', as_index=False).\\\n",
    "agg({'object_name':'count'}).sort_values(by='object_name', ascending=False)\n",
    "count_object_type_bottom['percent'] = (count_object_type_bottom['object_name'] / count_object_type_bottom['object_name'].sum()*100).round(1)\n",
    "count_object_type_bottom.columns = ['object_type', 'count_object_type', 'percent']"
   ]
  },
  {
   "cell_type": "code",
   "execution_count": 229,
   "metadata": {},
   "outputs": [
    {
     "data": {
      "image/png": "[encoded data removed]",
      "text/plain": [
       "<Figure size 1080x360 with 2 Axes>"
      ]
     },
     "metadata": {
      "needs_background": "light"
     },
     "output_type": "display_data"
    }
   ],
   "source": [
    "fig, ax = plt.subplots(1, 2, figsize = (15,5))\n",
    "plt.subplot(121)\n",
    "ax=sns.barplot(x = 'object_type', y = 'count_object_type', data =count_object_type_bottom)\n",
    "ax.set_xticklabels(ax.get_xticklabels(), rotation=30,  ha=\"right\", fontsize=12)\n",
    "ax.set_title('Распределение типов объектов общепита из топ-10 улиц', fontsize=12)\n",
    "plt.xlabel('Тип объекта общепита', fontsize=12)\n",
    "plt.ylabel('Число объектов', fontsize=12)\n",
    "plt.subplot(122)\n",
    "ax=sns.barplot(x = 'object_type', y = 'percent', data =count_object_type_bottom)\n",
    "ax.set_xticklabels(ax.get_xticklabels(), rotation=30,  ha=\"right\", fontsize=12)\n",
    "ax.set_title('Распределение долей видов объектов общепита из топ-10 улиц', fontsize=12)\n",
    "plt.xlabel('Тип объекта общепита', fontsize=12)\n",
    "plt.ylabel('Доля объектов', fontsize=12);"
   ]
  },
  {
   "cell_type": "markdown",
   "metadata": {},
   "source": [
    "#### А вот, на улицах, где маленькое количество заведений в основном по типам кафе и столовые"
   ]
  },
  {
   "cell_type": "markdown",
   "metadata": {},
   "source": [
    "## Проверяем гипотезу о равенстве количества посадочных мест в заведениях сетевого и несетевого типа."
   ]
  },
  {
   "cell_type": "code",
   "execution_count": 230,
   "metadata": {},
   "outputs": [
    {
     "name": "stdout",
     "output_type": "stream",
     "text": [
      "Среднее количество посадочных мест заведений сетевого типа= 58.234328358208955\n",
      "Среднее количество посадочных мест заведений несетевого типа= 69.06805606787164\n"
     ]
    }
   ],
   "source": [
    "print('Среднее количество посадочных мест заведений сетевого типа= {}'.\\\n",
    "      format(df_clean[df_clean.chain == 'да'].number.mean()))\n",
    "print('Среднее количество посадочных мест заведений несетевого типа= {}'.\\\n",
    "      format(df_clean[df_clean.chain == 'нет'].number.mean()))"
   ]
  },
  {
   "cell_type": "code",
   "execution_count": 231,
   "metadata": {},
   "outputs": [],
   "source": [
    "list_var = ['number']\n",
    "alpha = 0.05\n",
    "equal_var = False"
   ]
  },
  {
   "cell_type": "code",
   "execution_count": 232,
   "metadata": {},
   "outputs": [
    {
     "name": "stdout",
     "output_type": "stream",
     "text": [
      "Результаты проверки гипотезы H_0 по тесту Уилкоксона-Манна-Уитни:\n",
      "Уровень значимости alpha =  0.05\n",
      "P-value: 0.80\n",
      "Не получилось отвергнуть нулевую гипотезу: разница в количестве посадочных мест статистически незначима.\n"
     ]
    }
   ],
   "source": [
    "for i in list_var:\n",
    "  \n",
    "  results = stats.mannwhitneyu(df_clean[(df_clean.chain == 'да') & (df_clean.number <= 200)].number, \n",
    "                               df_clean[(df_clean.chain == 'нет') & (df_clean.number <= 200)].number)\n",
    "  print('Результаты проверки гипотезы H_0 по тесту Уилкоксона-Манна-Уитни:')\n",
    "  print('Уровень значимости alpha = ', alpha)\n",
    "  print('P-value: {:.2f}'.format(results.pvalue))\n",
    "  if results.pvalue < alpha:\n",
    "    print('Отвергаем нулевую гипотезу: разница в количестве посадочных мест статистически значима.')\n",
    "  else:\n",
    "    print('Не получилось отвергнуть нулевую гипотезу: разница в количестве посадочных мест статистически незначима.')"
   ]
  },
  {
   "cell_type": "code",
   "execution_count": null,
   "metadata": {},
   "outputs": [],
   "source": []
  }
 ],
 "metadata": {
  "colab": {
   "collapsed_sections": [],
   "name": "project5.ipynb",
   "provenance": []
  },
  "kernelspec": {
   "display_name": "Python 3 (ipykernel)",
   "language": "python",
   "name": "python3"
  },
  "language_info": {
   "codemirror_mode": {
    "name": "ipython",
    "version": 3
   },
   "file_extension": ".py",
   "mimetype": "text/x-python",
   "name": "python",
   "nbconvert_exporter": "python",
   "pygments_lexer": "ipython3",
   "version": "3.8.8"
  },
  "toc": {
   "base_numbering": "1",
   "nav_menu": {},
   "number_sections": true,
   "sideBar": true,
   "skip_h1_title": false,
   "title_cell": "Содержание",
   "title_sidebar": "Contents",
   "toc_cell": true,
   "toc_position": {},
   "toc_section_display": true,
   "toc_window_display": false
  }
 },
 "nbformat": 4,
 "nbformat_minor": 1
}
